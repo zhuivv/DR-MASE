{
 "cells": [
  {
   "cell_type": "code",
   "execution_count": 1,
   "metadata": {},
   "outputs": [],
   "source": [
    "from sklearn.model_selection import train_test_split, GridSearchCV\n",
    "import numpy as np\n",
    "from sklearn.ensemble import RandomForestRegressor, BaggingRegressor, AdaBoostRegressor, GradientBoostingRegressor\n",
    "from sklearn.tree import DecisionTreeRegressor, DecisionTreeClassifier\n",
    "from sklearn.ensemble import RandomForestClassifier, BaggingClassifier, AdaBoostClassifier, GradientBoostingClassifier\n",
    "from sklearn.neighbors import KNeighborsClassifier, KNeighborsRegressor\n",
    "from sklearn import linear_model\n",
    "from sklearn import model_selection\n",
    "from sklearn.svm import SVC\n",
    "from sklearn.neural_network import MLPClassifier, MLPRegressor\n",
    "import sklearn.metrics as metrics\n",
    "from sklearn.ensemble import StackingRegressor, StackingClassifier\n",
    "import xgboost as xgb\n",
    "import pandas as pd\n",
    "import time\n",
    "import multiprocess\n",
    "from ensemble_func import ps_function,ps_predict,gcompu_function,gcompu_predict"
   ]
  },
  {
   "cell_type": "markdown",
   "metadata": {},
   "source": [
    "# loading data"
   ]
  },
  {
   "cell_type": "code",
   "execution_count": 3,
   "metadata": {},
   "outputs": [],
   "source": [
    "abcd = pd.read_csv(\"ABCD5.0_flwup2_allnih.csv\")\n",
    "#from DR_function import dr,dr_boot\n",
    "import pyreadr\n",
    "robjects = pyreadr.read_r('ABCD5.0_varname_allnih.RData')\n",
    "# Convert the R object to a Pandas DataFrame\n",
    "covbase = robjects['covbase'].to_numpy().ravel()\n",
    "output1 = robjects['outtp12_1'].to_numpy().ravel()\n",
    "output2 = robjects['outtp12_2'].to_numpy().ravel()\n",
    "covtp1 = robjects['covtp1'].to_numpy().ravel()\n",
    "covtp2 = robjects['covtp2'].to_numpy().ravel()\n",
    "trttp1 = robjects['trttp1'].to_numpy().ravel()\n",
    "trttp2 = robjects['trttp2'].to_numpy().ravel()\n",
    "\n",
    "# coding dummy variables for categorical variables (only consider race and income, education need to be discuss)\n",
    "cat_cols = abcd.select_dtypes(include=\"object\").columns.tolist()[2:]\n",
    "dummy_df = pd.get_dummies(abcd[cat_cols],prefix_sep=\"\",drop_first=True)\n",
    "dummy_df.columns = dummy_df.columns.str.replace('_r', '', regex=True)\n",
    "abcd_encoded = pd.concat([abcd.drop(cat_cols,axis=1),dummy_df],axis=1)\n",
    "covbase = np.concatenate([[covbase[0]],covbase[4:],dummy_df.columns])\n",
    "#abcd_encoded = abcd\n"
   ]
  },
  {
   "cell_type": "markdown",
   "metadata": {},
   "source": [
    "# Estimating PS"
   ]
  },
  {
   "cell_type": "code",
   "execution_count": null,
   "metadata": {},
   "outputs": [],
   "source": [
    "# with common propensity score\n",
    "ps0feature = np.concatenate([covbase,covtp1])\n",
    "ps1feature = np.concatenate([covbase,covtp1,covtp2, output1,trttp1])\n",
    "\n",
    "baseps0_tr,baseps0_ts,cls_stack0_tr,cls_stack0_ts = ps_function(abcd_encoded,ps0feature,trttp1)\n",
    "enps0 = ps_predict(abcd_encoded,ps0feature,baseps0_tr,baseps0_ts,cls_stack0_tr,cls_stack0_ts)\n",
    "\n",
    "baseps1_tr,baseps1_ts,cls_stack1_tr,cls_stack1_ts = ps_function(abcd_encoded,ps1feature,trttp2,l1=True,mlp=True)\n",
    "enps1 = ps_predict(abcd_encoded,ps1feature,baseps1_tr,baseps1_ts,cls_stack1_tr,cls_stack1_ts)\n",
    "IPW = (abcd_encoded[trttp1].values.ravel()/enps0+(1-abcd_encoded[trttp1].values.ravel())/(1-enps0))*(abcd_encoded[trttp2].values.ravel()/enps1+(1-abcd_encoded[trttp2].values.ravel())/(1-enps1))\n",
    "msm_lm = linear_model.LinearRegression()\n",
    "phi_msm_sum = []; phi_msm_ratio = []; phi_msm1 = []; phi_msm2 = []\n",
    "for out2 in output2:\n",
    " # print(out2)\n",
    " msm_lm.fit(abcd_encoded[[trttp1[0],trttp2[0]]],abcd_encoded[out2],sample_weight=IPW)\n",
    " phi_msm_sum.append((np.sum(msm_lm.coef_))); phi_msm1.append(msm_lm.coef_[0]); phi_msm2.append(msm_lm.coef_[1])\n",
    " phi_msm_ratio.append(phi_msm_sum/(phi_msm_sum+msm_lm.intercept_))"
   ]
  },
  {
   "cell_type": "markdown",
   "metadata": {},
   "source": [
    "# Estimating Effects"
   ]
  },
  {
   "cell_type": "code",
   "execution_count": null,
   "metadata": {},
   "outputs": [],
   "source": [
    "from dr_estimation_func import dr_abcd_boot\n",
    "start_time = time.time()\n",
    "#np.random.seed(233)\n",
    "with multiprocess.Pool(processes=30) as pool:\n",
    "    #np.random.seed(233)\n",
    "    result_abcd_boot = pool.starmap(dr_abcd_boot, zip(output1,output2))\n",
    "    pool.close(); pool.join()\n",
    "\n",
    "end_time = time.time()\n",
    "(end_time-start_time)"
   ]
  }
 ],
 "metadata": {
  "kernelspec": {
   "display_name": "base",
   "language": "python",
   "name": "python3"
  },
  "language_info": {
   "codemirror_mode": {
    "name": "ipython",
    "version": 3
   },
   "file_extension": ".py",
   "mimetype": "text/x-python",
   "name": "python",
   "nbconvert_exporter": "python",
   "pygments_lexer": "ipython3",
   "version": "3.11.0"
  }
 },
 "nbformat": 4,
 "nbformat_minor": 2
}
